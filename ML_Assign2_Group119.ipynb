{
 "cells": [
  {
   "cell_type": "markdown",
   "metadata": {},
   "source": [
    "# ML Assignment 2 : Group: 119\n",
    "\n",
    "## Problem Statement:\n",
    "\n",
    "Data were collected on 81 patients undergoing corrective spinal surgery (Bell et al., 1989). The objective was to determine important risk factors for kyphosis following surgery. The risk factors are age in years, the starting vertebrae level of the surgery, and the number of levels involved.\n",
    "\n",
    "\n",
    "\n",
    "For the dataset, implement the Random Forest classifier using Python. [6M]\n",
    "\n",
    "The marks distribution is as follows\n",
    "<ul>\n",
    "<li>Import the libraries and Load the dataset and Remove/replace missing values (if any) [1M]\n",
    "<li>Split features and labels [0.5M]\n",
    "<li>Split train and test data [0.5M}\n",
    "<li>Implement Random Forest Classifier [2M]\n",
    "<li>Calculate accuracy measures [2M]\n",
    "</ul>\n",
    "\n",
    "\n",
    "For the same dataset, implement classification with KNN using Python. [6M]\n",
    "\n",
    "The marks distribution is as follows\n",
    "<ul>\n",
    "<li>Import the libraries and Load the dataset and Remove/replace missing values (if any) [1M]\n",
    "<li>Split features and labels [0.5M]\n",
    "<li>Split train and test data [0.5M}\n",
    "<li>Implement KNN Classifier [2M]\n",
    "<li>Calculate accuracy measures [2M]\n",
    "</ul> \n",
    "\n",
    "Compare the results and accuracies for both the algorithms and share your inferences. [1M]\n",
    "\n",
    "\n",
    "### Contributors\n",
    "J Manoj Balaji (2019AB04228@wilp.bits-pilani.ac.in) <br>\n",
    "Siddharth Verma (2019AD04097@wilp.bits-pilani.ac.in) <br>\n",
    "Randeep Singh (2019AD04069@wilp.bits-pilani.ac.in) <br>\n",
    "\n"
   ]
  },
  {
   "cell_type": "markdown",
   "metadata": {},
   "source": [
    "### Import the libraries and Load the dataset and Remove/replace missing values (if any)"
   ]
  },
  {
   "cell_type": "code",
   "execution_count": 48,
   "metadata": {},
   "outputs": [],
   "source": [
    "import numpy as np\n",
    "import pandas as pd\n",
    "from sklearn.ensemble import RandomForestClassifier\n",
    "from sklearn.neighbors import KNeighborsClassifier\n",
    "from sklearn.model_selection import train_test_split\n",
    "from sklearn.metrics import classification_report,confusion_matrix,roc_curve,auc,accuracy_score\n",
    "import matplotlib.pyplot as plt\n",
    "from matplotlib.legend_handler import HandlerLine2D\n",
    "from collections import Counter\n",
    "from sklearn.preprocessing import MinMaxScaler\n",
    "import seaborn as sns\n",
    "import statsmodels.api as sm\n",
    "from statsmodels.formula.api import ols"
    "from sklearn.model_selection import cross_val_score"
   ]
  },
  {
   "cell_type": "code",
   "execution_count": 2,
   "metadata": {},
   "outputs": [],
   "source": [
    "df = pd.read_csv(\"kyphosis.csv\")"
   ]
  },
  {
   "cell_type": "markdown",
   "metadata": {},
   "source": [
    "### Exploratory Data Analysis"
   ]
  },
  {
   "cell_type": "code",
   "execution_count": 3,
   "metadata": {},
   "outputs": [
    {
     "data": {
      "text/html": [
       "<div>\n",
       "<style scoped>\n",
       "    .dataframe tbody tr th:only-of-type {\n",
       "        vertical-align: middle;\n",
       "    }\n",
       "\n",
       "    .dataframe tbody tr th {\n",
       "        vertical-align: top;\n",
       "    }\n",
       "\n",
       "    .dataframe thead th {\n",
       "        text-align: right;\n",
       "    }\n",
       "</style>\n",
       "<table border=\"1\" class=\"dataframe\">\n",
       "  <thead>\n",
       "    <tr style=\"text-align: right;\">\n",
       "      <th></th>\n",
       "      <th>Kyphosis</th>\n",
       "      <th>Age</th>\n",
       "      <th>Number</th>\n",
       "      <th>Start</th>\n",
       "    </tr>\n",
       "  </thead>\n",
       "  <tbody>\n",
       "    <tr>\n",
       "      <th>0</th>\n",
       "      <td>absent</td>\n",
       "      <td>71</td>\n",
       "      <td>3</td>\n",
       "      <td>5</td>\n",
       "    </tr>\n",
       "    <tr>\n",
       "      <th>1</th>\n",
       "      <td>absent</td>\n",
       "      <td>158</td>\n",
       "      <td>3</td>\n",
       "      <td>14</td>\n",
       "    </tr>\n",
       "    <tr>\n",
       "      <th>2</th>\n",
       "      <td>present</td>\n",
       "      <td>128</td>\n",
       "      <td>4</td>\n",
       "      <td>5</td>\n",
       "    </tr>\n",
       "    <tr>\n",
       "      <th>3</th>\n",
       "      <td>absent</td>\n",
       "      <td>2</td>\n",
       "      <td>5</td>\n",
       "      <td>1</td>\n",
       "    </tr>\n",
       "    <tr>\n",
       "      <th>4</th>\n",
       "      <td>absent</td>\n",
       "      <td>1</td>\n",
       "      <td>4</td>\n",
       "      <td>15</td>\n",
       "    </tr>\n",
       "  </tbody>\n",
       "</table>\n",
       "</div>"
      ],
      "text/plain": [
       "  Kyphosis  Age  Number  Start\n",
       "0   absent   71       3      5\n",
       "1   absent  158       3     14\n",
       "2  present  128       4      5\n",
       "3   absent    2       5      1\n",
       "4   absent    1       4     15"
      ]
     },
     "execution_count": 3,
     "metadata": {},
     "output_type": "execute_result"
    }
   ],
   "source": [
    "df.head()"
   ]
  },
  {
   "cell_type": "code",
   "execution_count": 4,
   "metadata": {},
   "outputs": [
    {
     "data": {
      "text/html": [
       "<div>\n",
       "<style scoped>\n",
       "    .dataframe tbody tr th:only-of-type {\n",
       "        vertical-align: middle;\n",
       "    }\n",
       "\n",
       "    .dataframe tbody tr th {\n",
       "        vertical-align: top;\n",
       "    }\n",
       "\n",
       "    .dataframe thead th {\n",
       "        text-align: right;\n",
       "    }\n",
       "</style>\n",
       "<table border=\"1\" class=\"dataframe\">\n",
       "  <thead>\n",
       "    <tr style=\"text-align: right;\">\n",
       "      <th></th>\n",
       "      <th>Age</th>\n",
       "      <th>Number</th>\n",
       "      <th>Start</th>\n",
       "    </tr>\n",
       "  </thead>\n",
       "  <tbody>\n",
       "    <tr>\n",
       "      <th>count</th>\n",
       "      <td>81.000000</td>\n",
       "      <td>81.000000</td>\n",
       "      <td>81.000000</td>\n",
       "    </tr>\n",
       "    <tr>\n",
       "      <th>mean</th>\n",
       "      <td>83.654321</td>\n",
       "      <td>4.049383</td>\n",
       "      <td>11.493827</td>\n",
       "    </tr>\n",
       "    <tr>\n",
       "      <th>std</th>\n",
       "      <td>58.104251</td>\n",
       "      <td>1.619423</td>\n",
       "      <td>4.883962</td>\n",
       "    </tr>\n",
       "    <tr>\n",
       "      <th>min</th>\n",
       "      <td>1.000000</td>\n",
       "      <td>2.000000</td>\n",
       "      <td>1.000000</td>\n",
       "    </tr>\n",
       "    <tr>\n",
       "      <th>25%</th>\n",
       "      <td>26.000000</td>\n",
       "      <td>3.000000</td>\n",
       "      <td>9.000000</td>\n",
       "    </tr>\n",
       "    <tr>\n",
       "      <th>50%</th>\n",
       "      <td>87.000000</td>\n",
       "      <td>4.000000</td>\n",
       "      <td>13.000000</td>\n",
       "    </tr>\n",
       "    <tr>\n",
       "      <th>75%</th>\n",
       "      <td>130.000000</td>\n",
       "      <td>5.000000</td>\n",
       "      <td>16.000000</td>\n",
       "    </tr>\n",
       "    <tr>\n",
       "      <th>max</th>\n",
       "      <td>206.000000</td>\n",
       "      <td>10.000000</td>\n",
       "      <td>18.000000</td>\n",
       "    </tr>\n",
       "  </tbody>\n",
       "</table>\n",
       "</div>"
      ],
      "text/plain": [
       "              Age     Number      Start\n",
       "count   81.000000  81.000000  81.000000\n",
       "mean    83.654321   4.049383  11.493827\n",
       "std     58.104251   1.619423   4.883962\n",
       "min      1.000000   2.000000   1.000000\n",
       "25%     26.000000   3.000000   9.000000\n",
       "50%     87.000000   4.000000  13.000000\n",
       "75%    130.000000   5.000000  16.000000\n",
       "max    206.000000  10.000000  18.000000"
      ]
     },
     "execution_count": 4,
     "metadata": {},
     "output_type": "execute_result"
    }
   ],
   "source": [
    "df.describe()"
   ]
  },
  {
   "cell_type": "markdown",
   "metadata": {},
   "source": [
    "#### Age Distribution is from 1 to 206, we are assuming it is in months."
   ]
  },
  {
   "cell_type": "code",
   "execution_count": 25,
   "metadata": {},
   "outputs": [
    {
     "data": {
      "text/plain": [
       "<matplotlib.axes._subplots.AxesSubplot at 0x7fc12225e910>"
      ]
     },
     "execution_count": 25,
     "metadata": {},
     "output_type": "execute_result"
    },
    {
     "data": {
      "image/png": "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\n",
      "text/plain": [
       "<Figure size 432x288 with 2 Axes>"
      ]
     },
     "metadata": {
      "needs_background": "light"
     },
     "output_type": "display_data"
    }
   ],
   "source": [
    "sns.heatmap((df.corr()))"
   ]
  },
  {
   "cell_type": "code",
   "execution_count": 43,
   "metadata": {},
   "outputs": [
    {
     "data": {
      "text/plain": [
       "<matplotlib.axes._subplots.AxesSubplot at 0x7fc1233e4670>"
      ]
     },
     "execution_count": 43,
     "metadata": {},
     "output_type": "execute_result"
    },
    {
     "data": {
      "image/png": "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\n",
      "text/plain": [
       "<Figure size 1080x720 with 1 Axes>"
      ]
     },
     "metadata": {
      "needs_background": "light"
     },
     "output_type": "display_data"
    }
   ],
   "source": [
    "plt.figure(figsize=(15,10))\n",
    "sns.distplot(df['Age'], bins=25, color='red')"
   ]
  },
  {
   "cell_type": "code",
   "execution_count": 34,
   "metadata": {},
   "outputs": [
    {
     "data": {
      "text/plain": [
       "<matplotlib.legend.Legend at 0x7fc123e20fd0>"
      ]
     },
     "execution_count": 34,
     "metadata": {},
     "output_type": "execute_result"
    },
    {
     "data": {
      "image/png": "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\n",
      "text/plain": [
       "<Figure size 613.875x540 with 12 Axes>"
      ]
     },
     "metadata": {
      "needs_background": "light"
     },
     "output_type": "display_data"
    }
   ],
   "source": [
    "sns.pairplot(df,hue='Kyphosis', palette='twilight_r')\n",
    "plt.legend()"
   ]
  },
  {
   "cell_type": "code",
   "execution_count": 37,
   "metadata": {},
   "outputs": [
    {
     "data": {
      "text/html": [
       "<div>\n",
       "<style scoped>\n",
       "    .dataframe tbody tr th:only-of-type {\n",
       "        vertical-align: middle;\n",
       "    }\n",
       "\n",
       "    .dataframe tbody tr th {\n",
       "        vertical-align: top;\n",
       "    }\n",
       "\n",
       "    .dataframe thead th {\n",
       "        text-align: right;\n",
       "    }\n",
       "</style>\n",
       "<table border=\"1\" class=\"dataframe\">\n",
       "  <thead>\n",
       "    <tr style=\"text-align: right;\">\n",
       "      <th></th>\n",
       "      <th>Kyphosis</th>\n",
       "      <th>absent</th>\n",
       "      <th>present</th>\n",
       "    </tr>\n",
       "  </thead>\n",
       "  <tbody>\n",
       "    <tr>\n",
       "      <th rowspan=\"8\" valign=\"top\">Age</th>\n",
       "      <th>count</th>\n",
       "      <td>64.000000</td>\n",
       "      <td>17.000000</td>\n",
       "    </tr>\n",
       "    <tr>\n",
       "      <th>mean</th>\n",
       "      <td>79.890625</td>\n",
       "      <td>97.823529</td>\n",
       "    </tr>\n",
       "    <tr>\n",
       "      <th>std</th>\n",
       "      <td>61.861114</td>\n",
       "      <td>39.275048</td>\n",
       "    </tr>\n",
       "    <tr>\n",
       "      <th>min</th>\n",
       "      <td>1.000000</td>\n",
       "      <td>15.000000</td>\n",
       "    </tr>\n",
       "    <tr>\n",
       "      <th>25%</th>\n",
       "      <td>18.000000</td>\n",
       "      <td>73.000000</td>\n",
       "    </tr>\n",
       "    <tr>\n",
       "      <th>50%</th>\n",
       "      <td>79.000000</td>\n",
       "      <td>105.000000</td>\n",
       "    </tr>\n",
       "    <tr>\n",
       "      <th>75%</th>\n",
       "      <td>131.000000</td>\n",
       "      <td>128.000000</td>\n",
       "    </tr>\n",
       "    <tr>\n",
       "      <th>max</th>\n",
       "      <td>206.000000</td>\n",
       "      <td>157.000000</td>\n",
       "    </tr>\n",
       "    <tr>\n",
       "      <th rowspan=\"8\" valign=\"top\">Number</th>\n",
       "      <th>count</th>\n",
       "      <td>64.000000</td>\n",
       "      <td>17.000000</td>\n",
       "    </tr>\n",
       "    <tr>\n",
       "      <th>mean</th>\n",
       "      <td>3.750000</td>\n",
       "      <td>5.176471</td>\n",
       "    </tr>\n",
       "    <tr>\n",
       "      <th>std</th>\n",
       "      <td>1.414214</td>\n",
       "      <td>1.878673</td>\n",
       "    </tr>\n",
       "    <tr>\n",
       "      <th>min</th>\n",
       "      <td>2.000000</td>\n",
       "      <td>3.000000</td>\n",
       "    </tr>\n",
       "    <tr>\n",
       "      <th>25%</th>\n",
       "      <td>3.000000</td>\n",
       "      <td>4.000000</td>\n",
       "    </tr>\n",
       "    <tr>\n",
       "      <th>50%</th>\n",
       "      <td>4.000000</td>\n",
       "      <td>5.000000</td>\n",
       "    </tr>\n",
       "    <tr>\n",
       "      <th>75%</th>\n",
       "      <td>5.000000</td>\n",
       "      <td>6.000000</td>\n",
       "    </tr>\n",
       "    <tr>\n",
       "      <th>max</th>\n",
       "      <td>9.000000</td>\n",
       "      <td>10.000000</td>\n",
       "    </tr>\n",
       "    <tr>\n",
       "      <th rowspan=\"8\" valign=\"top\">Start</th>\n",
       "      <th>count</th>\n",
       "      <td>64.000000</td>\n",
       "      <td>17.000000</td>\n",
       "    </tr>\n",
       "    <tr>\n",
       "      <th>mean</th>\n",
       "      <td>12.609375</td>\n",
       "      <td>7.294118</td>\n",
       "    </tr>\n",
       "    <tr>\n",
       "      <th>std</th>\n",
       "      <td>4.427967</td>\n",
       "      <td>4.283175</td>\n",
       "    </tr>\n",
       "    <tr>\n",
       "      <th>min</th>\n",
       "      <td>1.000000</td>\n",
       "      <td>1.000000</td>\n",
       "    </tr>\n",
       "    <tr>\n",
       "      <th>25%</th>\n",
       "      <td>11.000000</td>\n",
       "      <td>5.000000</td>\n",
       "    </tr>\n",
       "    <tr>\n",
       "      <th>50%</th>\n",
       "      <td>14.000000</td>\n",
       "      <td>6.000000</td>\n",
       "    </tr>\n",
       "    <tr>\n",
       "      <th>75%</th>\n",
       "      <td>16.000000</td>\n",
       "      <td>12.000000</td>\n",
       "    </tr>\n",
       "    <tr>\n",
       "      <th>max</th>\n",
       "      <td>18.000000</td>\n",
       "      <td>14.000000</td>\n",
       "    </tr>\n",
       "  </tbody>\n",
       "</table>\n",
       "</div>"
      ],
      "text/plain": [
       "Kyphosis          absent     present\n",
       "Age    count   64.000000   17.000000\n",
       "       mean    79.890625   97.823529\n",
       "       std     61.861114   39.275048\n",
       "       min      1.000000   15.000000\n",
       "       25%     18.000000   73.000000\n",
       "       50%     79.000000  105.000000\n",
       "       75%    131.000000  128.000000\n",
       "       max    206.000000  157.000000\n",
       "Number count   64.000000   17.000000\n",
       "       mean     3.750000    5.176471\n",
       "       std      1.414214    1.878673\n",
       "       min      2.000000    3.000000\n",
       "       25%      3.000000    4.000000\n",
       "       50%      4.000000    5.000000\n",
       "       75%      5.000000    6.000000\n",
       "       max      9.000000   10.000000\n",
       "Start  count   64.000000   17.000000\n",
       "       mean    12.609375    7.294118\n",
       "       std      4.427967    4.283175\n",
       "       min      1.000000    1.000000\n",
       "       25%     11.000000    5.000000\n",
       "       50%     14.000000    6.000000\n",
       "       75%     16.000000   12.000000\n",
       "       max     18.000000   14.000000"
      ]
     },
     "execution_count": 37,
     "metadata": {},
     "output_type": "execute_result"
    }
   ],
   "source": [
    "df.groupby(['Kyphosis']).describe().T"
   ]
  },
  {
   "cell_type": "code",
   "execution_count": 39,
   "metadata": {},
   "outputs": [
    {
     "data": {
      "text/html": [
       "<div>\n",
       "<style scoped>\n",
       "    .dataframe tbody tr th:only-of-type {\n",
       "        vertical-align: middle;\n",
       "    }\n",
       "\n",
       "    .dataframe tbody tr th {\n",
       "        vertical-align: top;\n",
       "    }\n",
       "\n",
       "    .dataframe thead th {\n",
       "        text-align: right;\n",
       "    }\n",
       "</style>\n",
       "<table border=\"1\" class=\"dataframe\">\n",
       "  <thead>\n",
       "    <tr style=\"text-align: right;\">\n",
       "      <th>Kyphosis</th>\n",
       "      <th>absent</th>\n",
       "      <th>present</th>\n",
       "    </tr>\n",
       "  </thead>\n",
       "  <tbody>\n",
       "    <tr>\n",
       "      <th>Age</th>\n",
       "      <td>0.203509</td>\n",
       "      <td>-0.562174</td>\n",
       "    </tr>\n",
       "    <tr>\n",
       "      <th>Number</th>\n",
       "      <td>1.086186</td>\n",
       "      <td>0.929513</td>\n",
       "    </tr>\n",
       "    <tr>\n",
       "      <th>Start</th>\n",
       "      <td>-1.393117</td>\n",
       "      <td>0.057306</td>\n",
       "    </tr>\n",
       "  </tbody>\n",
       "</table>\n",
       "</div>"
      ],
      "text/plain": [
       "Kyphosis    absent   present\n",
       "Age       0.203509 -0.562174\n",
       "Number    1.086186  0.929513\n",
       "Start    -1.393117  0.057306"
      ]
     },
     "execution_count": 39,
     "metadata": {},
     "output_type": "execute_result"
    }
   ],
   "source": [
    "df.groupby(['Kyphosis']).skew().T"
   ]
  },
  {
   "cell_type": "markdown",
   "metadata": {},
   "source": [
    "### Split features and labels"
   ]
  },
  {
   "cell_type": "code",
   "execution_count": 5,
   "metadata": {},
   "outputs": [],
   "source": [
    "X = df.drop('Kyphosis',axis=1)\n",
    "y = df['Kyphosis']"
   ]
  },
  {
   "cell_type": "markdown",
   "metadata": {},
   "source": [
    "### Split train and test data "
   ]
  },
  {
   "cell_type": "code",
   "execution_count": 6,
   "metadata": {},
   "outputs": [],
   "source": [
    "X_train, X_test, y_train, y_test = train_test_split(X, y, test_size=0.2,stratify=y,random_state=42)"
   ]
  },
  {
   "cell_type": "code",
   "execution_count": 7,
   "metadata": {},
   "outputs": [],
   "source": [
    "scaler = MinMaxScaler()\n",
    "X_train = scaler.fit_transform(X_train)\n",
    "X_test = scaler.fit_transform(X_test)"
   ]
  },
  {
   "cell_type": "code",
   "execution_count": 8,
   "metadata": {},
   "outputs": [
    {
     "data": {
      "text/plain": [
       "(array([[0.32682927, 0.375     , 0.52941176],\n",
       "        [0.        , 0.125     , 0.47058824],\n",
       "        [0.69268293, 0.875     , 0.11764706],\n",
       "        [0.76097561, 0.125     , 0.70588235],\n",
       "        [0.67317073, 0.125     , 0.52941176]]),\n",
       " array([[0.90721649, 0.        , 0.8125    ],\n",
       "        [0.58247423, 1.        , 0.4375    ],\n",
       "        [0.41752577, 0.6       , 0.8125    ],\n",
       "        [0.01546392, 0.2       , 0.9375    ],\n",
       "        [0.18041237, 0.4       , 0.75      ]]))"
      ]
     },
     "execution_count": 8,
     "metadata": {},
     "output_type": "execute_result"
    }
   ],
   "source": [
    "X_train[:5], X_test[:5]"
   ]
  },
  {
   "cell_type": "code",
   "execution_count": 9,
   "metadata": {},
   "outputs": [
    {
     "data": {
      "text/plain": [
       "((64, 3), (17, 3))"
      ]
     },
     "execution_count": 9,
     "metadata": {},
     "output_type": "execute_result"
    }
   ],
   "source": [
    "X_train.shape, X_test.shape"
   ]
  },
  {
   "cell_type": "code",
   "execution_count": 10,
   "metadata": {},
   "outputs": [
    {
     "data": {
      "text/plain": [
       "(Counter({'absent': 51, 'present': 13}), Counter({'absent': 13, 'present': 4}))"
      ]
     },
     "execution_count": 10,
     "metadata": {},
     "output_type": "execute_result"
    }
   ],
   "source": [
    "Counter(y_train), Counter(y_test)"
   ]
  },
  {
   "cell_type": "markdown",
   "metadata": {},
   "source": [
    "## Random Forest"
   ]
  },
  {
   "cell_type": "code",
   "execution_count": 11,
   "metadata": {},
   "outputs": [],
   "source": [
    "num_of_trees = list(range(2,20,2))\n",
    "rf_train_results = []\n",
    "rf_test_results = []\n",
    "for n in num_of_trees:\n",
    "   rf = RandomForestClassifier(n_estimators=n, random_state=42)\n",
    "   rf.fit(X_train, y_train)\n",
    "   rf_train_pred = rf.predict(X_train)\n",
    "   rf_train_accuracy = accuracy_score(y_train, rf_train_pred)\n",
    "   rf_train_results.append(rf_train_accuracy)\n",
    "   rf_y_pred = rf.predict(X_test)\n",
    "   rf_test_accuracy = accuracy_score(y_test, rf_y_pred)\n",
    "   rf_test_results.append(rf_test_accuracy)"
   ]
  },
  {
   "cell_type": "code",
   "execution_count": 12,
   "metadata": {},
   "outputs": [
    {
     "data": {
      "image/png": "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\n",
      "text/plain": [
       "<Figure size 432x288 with 1 Axes>"
      ]
     },
     "metadata": {
      "needs_background": "light"
     },
     "output_type": "display_data"
    }
   ],
   "source": [
    "line1, = plt.plot(num_of_trees, rf_train_results, 'b', label=\"Train Accuracy\")\n",
    "line2, = plt.plot(num_of_trees, rf_test_results, 'r', label=\"Test Accuracy\")\n",
    "plt.legend(handler_map={line1: HandlerLine2D(numpoints=2)})\n",
    "plt.ylabel('Accuracy')\n",
    "plt.xlabel('n_neighbors')\n",
    "plt.show()"
   ]
  },
  {
   "cell_type": "code",
   "execution_count": 13,
   "metadata": {},
   "outputs": [],
   "source": [
    "rfc = RandomForestClassifier(n_estimators=4, random_state=42)"
   ]
  },
  {
   "cell_type": "code",
   "execution_count": 14,
   "metadata": {},
   "outputs": [
    {
     "data": {
      "text/plain": [
       "RandomForestClassifier(n_estimators=4, random_state=42)"
      ]
     },
     "execution_count": 14,
     "metadata": {},
     "output_type": "execute_result"
    }
   ],
   "source": [
    "rfc.fit(X_train, y_train)"
   ]
  },
  {
   "cell_type": "code",
   "execution_count": 20,
   "metadata": {},
   "outputs": [],
   "source": [
    "rfc_test_pred = rfc.predict(X_test)\n",
    "rfc_train_pred = rfc.predict(X_train)"
   ]
  },
  {
   "cell_type": "markdown",
   "metadata": {},
   "source": [
    "### Calculate accuracy measures"
   ]
  },
  {
   "cell_type": "code",
   "execution_count": 21,
   "metadata": {},
   "outputs": [
    {
     "name": "stdout",
     "output_type": "stream",
     "text": [
      "Training Accuracy:  1.0\n",
      "Test Accuracy:  0.9411764705882353\n"
     ]
    }
   ],
   "source": [
    "print(\"Training Accuracy: \",accuracy_score(y_train,rf_train_pred))\n",
    "print(\"Test Accuracy: \",accuracy_score(y_test,rfc_test_pred))"
   ]
  },
  {
   "cell_type": "code",
   "execution_count": 22,
   "metadata": {},
   "outputs": [
    {
     "name": "stdout",
     "output_type": "stream",
     "text": [
      "[[13  0]\n",
      " [ 1  3]]\n",
      "\n",
      "\n",
      "              precision    recall  f1-score   support\n",
      "\n",
      "      absent       0.93      1.00      0.96        13\n",
      "     present       1.00      0.75      0.86         4\n",
      "\n",
      "    accuracy                           0.94        17\n",
      "   macro avg       0.96      0.88      0.91        17\n",
      "weighted avg       0.95      0.94      0.94        17\n",
      "\n"
     ]
    }
   ],
   "source": [
    "print(confusion_matrix(y_test,rfc_pred))\n",
    "print('\\n')\n",
    "print(classification_report(y_test,rfc_pred))"
   ]
  },
  {
   "cell_type": "markdown",
   "metadata": {},
   "source": [
    "## KNN"
   ]
  },
  {
   "cell_type": "code",
   "execution_count": 30,
   "metadata": {},
   "outputs": [],
   "source": [
    "neighbors = list(range(2,20))\n",
    "scores = []\n",
    "knn_test_results = []\n",
    "for n in neighbors:\n",
    "   knn = KNeighborsClassifier(n_neighbors=n)\n",
    "   knn.fit(X_train, y_train)\n",
    "   score = cross_val_score(knn, X, y, cv=5, scoring='accuracy')\n",
    "   scores.append(score.mean())\n",
    "   knn_test_results.append(accuracy_score(y_test, knn.predict(X_test)))"
   ]
  },
  {
   "cell_type": "code",
   "execution_count": 31,
   "metadata": {},
   "outputs": [
    {
     "data": {
      "image/png": "iVBORw0KGgoAAAANSUhEUgAAAY4AAAEHCAYAAAC5u6FsAAAABHNCSVQICAgIfAhkiAAAAAlwSFlzAAALEgAACxIB0t1+/AAAADh0RVh0U29mdHdhcmUAbWF0cGxvdGxpYiB2ZXJzaW9uMy4yLjIsIGh0dHA6Ly9tYXRwbG90bGliLm9yZy+WH4yJAAAgAElEQVR4nO3dd3hUZfbA8e+hi4AgAosEBRULAgmQjIqugoji2gDLoq66uOoPBURdK9bVLSxWFMvKgqiLIKIoKlbUZe2EItJFBAwiIlJF+vn9cW5wCCkzSSZ3JnM+z5NnZu7ce+cMJHPmvuW8oqo455xzsaoSdgDOOedSiycO55xzcfHE4ZxzLi6eOJxzzsXFE4dzzrm4VAs7gIqw3377aYsWLcIOwznnUsq0adN+VNVGBbenReJo0aIFubm5YYfhnHMpRUSWFrbdm6qcc87FxROHc865uHjicM45F5e06ONwzlWsbdu2kZeXx+bNm8MOxcWgVq1aZGRkUL169Zj298ThnCt3eXl51K1blxYtWiAiYYfjiqGqrF69mry8PFq2bBnTMQlrqhKRkSLyg4jMLuJ5EZGHRWSRiMwSkQ5Rz3UXkQXBczdHbd9XRN4Rka+C2waJit85V3qbN2+mYcOGnjRSgIjQsGHDuK4OE9nHMQroXszzpwKtgp8rgMcBRKQq8GjwfGvgfBFpHRxzMzBZVVsBk4PHzrkk5EkjdcT7f5WwxKGqU4CfitnlLOAZNZ8C9UWkKRABFqnqYlXdCowN9s0/5ung/tNAj8REbz7+GEaMSOQrOOdc6glzVFUz4Nuox3nBtqK2AzRR1RUAwW3jok4uIleISK6I5K5atapUAT7/PFx9NWzfXqrDnXMhWb16NVlZWWRlZfGb3/yGZs2a7Xq8devWYo/Nzc3l6quvjvs1Z8yYgYjw1ltvlTbslBFm4ijs2kiL2R4XVX1SVbNVNbtRoz1mzMckEoFNm2Du3FId7pwLScOGDZk5cyYzZ86kb9++XHvttbse16hRg+3FfBvMzs7m4Ycfjvs1x4wZw3HHHceYMWPKEnqJduzYkdDzxyLMxJEHNI96nAF8V8x2gJVBcxbB7Q+JDDASsdvPP0/kqzjnKsIf//hHrrvuOrp06cJNN93E559/TqdOnWjfvj2dOnViwYIFAHzwwQecfvrpANx1111ceumldO7cmYMOOqjIhKKqjB8/nlGjRvH222/v1tE8ZMgQ2rZtS2ZmJjffbN2yixYt4qSTTiIzM5MOHTrw9ddf7/a6AP3792fUqFGAlU26++67Oe6443jhhRcYPnw4OTk5ZGZmcvbZZ7Np0yYAVq5cSc+ePcnMzCQzM5OPP/6Y22+/naFDh+4676233lqqxBgtzOG4E4H+IjIWOApYp6orRGQV0EpEWgLLgd7ABVHHXAIMDm5fSWSAhxwC9evD1Klw2WWJfCXn0sM118DMmaU7NisLHnqobK+/cOFC3n33XapWrcr69euZMmUK1apV491332XQoEG8+OKLexwzf/583n//fTZs2MBhhx3GlVdeucd8h48++oiWLVty8MEH07lzZyZNmkSvXr144403ePnll/nss8+oXbs2P/1k3b4XXnghN998Mz179mTz5s3s3LmTb7/9do/XjlarVi0+/PBDwJriLr/8cgBuu+02RowYwYABA7j66qs54YQTmDBhAjt27GDjxo3sv//+9OrVi4EDB7Jz507Gjh3L52X8NpywxCEiY4DOwH4ikgfcCVQHUNUngEnA74BFwCagT/DcdhHpD7wFVAVGquqc4LSDgXEi8idgGXBuouK39wA5OX7F4Vxlce6551K1alUA1q1bxyWXXMJXX32FiLBt27ZCjznttNOoWbMmNWvWpHHjxqxcuZKMjIzd9hkzZgy9e/cGoHfv3jz77LP06tWLd999lz59+lC7dm0A9t13XzZs2MDy5cvp2bMnYAkhFr///e933Z89eza33XYba9euZePGjZxyyikAvPfeezzzzDMAVK1alX322Yd99tmHhg0bMmPGDFauXEn79u1p2LBhrP9khUpY4lDV80t4XoF+RTw3CUssBbevBrqWS4AxikRg8GDr6wj+751zpVTWK4ay2nvvvXfdv/322+nSpQsTJkxgyZIldO7cudBjatasuet+1apV9+gf2bFjBy+++CITJ07kb3/7264JdRs2bEBV9xjqah99e6pWrRo7d+7c9bjgvIro2P/4xz/y8ssvk5mZyahRo/jggw+Kfd+XXXYZo0aN4vvvv+fSSy8tdt9YeK2qEkQisGMHzJgRdiTOufK0bt06mjWzAZv5fQml8e6775KZmcm3337LkiVLWLp0KWeffTYvv/wyJ598MiNHjtzVB/HTTz9Rr149MjIyePnllwHYsmULmzZt4sADD2Tu3Lls2bKFdevWMXny5CJfc8OGDTRt2pRt27YxevToXdu7du3K448/DlhCW79+PQA9e/bkzTffZOrUqbuuTsrCE0cJcnLsdurUcONwzpWvG2+8kVtuuYVjjz22TCOVxowZs6vZKd/ZZ5/Nc889R/fu3TnzzDPJzs4mKyuL++67D4Bnn32Whx9+mHbt2tGpUye+//57mjdvznnnnUe7du248MILad++fZGvec8993DUUUfRrVs3Dj/88F3bhw4dyvvvv0/btm3p2LEjc+ZYK3+NGjXo0qUL55133q6murKQoi6bKpPs7Gwty0JOzZvDb38Lzz1XjkE5V4nNmzePI444IuwwXGDnzp106NCBF154gVatWhW6T2H/ZyIyTVWzC+7rVxwxiES8g9w5l5rmzp3LIYccQteuXYtMGvHy6rgxiETgpZdg9Woo42AE55yrUK1bt2bx4sXlek6/4ohB/kRAX7bcOec8ccSkY0eb0+HNVc4554kjJvXqweGHe+JwzjnwxBGz/A7yNBiE5pxzxfLEEaNIBH74AUooJ+OcSwJlKasOVujw448/Lnafs846i2OOOaa8Qk4pPqoqRvkTAT//HA44INxYnHPFyy+rDlbhtk6dOlx//fUxH//BBx9Qp04dOnXqVOjza9euZfr06dSpU4dvvvkm5rW647V9+3aqVUu+j2m/4ohRu3ZQo4b3cziXqqZNm8YJJ5xAx44dOeWUU1ixYgUADz/8MK1bt6Zdu3b07t2bJUuW8MQTT/Dggw+SlZXF//73vz3O9eKLL3LGGWfQu3dvxo4du2t7YeXSofDS6p07dyZ/YvKPP/5IixYtACt/cu6553LGGWdw8skns3HjRrp27UqHDh1o27Ytr7zya1HwZ555hnbt2pGZmclFF13Ehg0baNmy5a6CjevXr6dFixZFFnAsreRLZUmqZk0r6+yJw7k4laWWelHirLGuqgwYMIBXXnmFRo0a8fzzz3PrrbcycuRIBg8ezDfffEPNmjVZu3Yt9evXp2/fvsVepYwZM4Y777yTJk2acM4553DLLbcAhZdLL6q0enE++eQTZs2axb777sv27duZMGEC9erV48cff+Too4/mzDPPZO7cufztb3/jo48+Yr/99uOnn36ibt26dO7cmddff50ePXowduxYzj777D3KwJeVJ444RCIwapQVPSyHci/OuQqyZcsWZs+eTbdu3QArANi0aVOAXbWhevToQY8ePUo818qVK1m0aBHHHXccIkK1atWYPXs2Bx54YKHl0gsrrV6Sbt267dpPVRk0aBBTpkyhSpUqLF++nJUrV/Lee+9xzjnnsN9+++123ssuu4whQ4bQo0cPnnrqKYYPHx7PP1VMPHHEIScHhg2D+fPhyCPDjsa5FBF2LXXsw/fII4/kk08+2eO5119/nSlTpjBx4kTuueeeXYUBi/L888+zZs2aXf0a69evZ+zYsdx4441FvnbB0uqwexn14kqojx49mlWrVjFt2jSqV69OixYt2Lx5c5HnPfbYY1myZAn//e9/2bFjB23atCn2/ZSG93HEwZeSdS411axZk1WrVu1KHNu2bWPOnDm7Vt7r0qULQ4YM2bUwUt26ddmwYUOh5xozZgxvvvkmS5YsYcmSJUybNo2xY8cWWS69sNLqYMvBTps2DYDx48cXGfu6deto3Lgx1atX5/3332fp0qWAlVAfN24cq1ev3u28ABdffDHnn38+ffr0Kcs/W5E8ccTh0ENtMqAnDudSS5UqVRg/fjw33XQTmZmZZGVl8fHHH7Njxw7+8Ic/0LZtW9q3b8+1115L/fr1OeOMM5gwYcIeneNLlixh2bJlHH300bu2tWzZknr16vHZZ58VWi69qNLq119/PY8//jidOnXixx9/LDL2Cy+8kNzcXLKzsxk9evSuMupHHnkkt956KyeccAKZmZlcd911ux2zZs0azj+/2PX0Si2hZdVFpDswFFsC9t+qOrjA8w2AkcDBwGbgUlWdLSKHAc9H7XoQcIeqPiQidwGXA6uC5wYFKwYWqaxl1aOddBKsXet1q5wrjpdVD9f48eN55ZVXePbZZ2M+Jp6y6olcc7wq8CjQDcgDporIRFWdG7XbIGCmqvYUkcOD/buq6gIgK+o8y4EJUcc9qKr3JSr24uTkwH33webNEONSwc45V2EGDBjAG2+8waRJxX6fLpNENlVFgEWqulhVtwJjgbMK7NMamAygqvOBFiLSpMA+XYGvVXVpAmONWSQC27eX/+hC55wrD4888giLFi3i0EMPTdhrJDJxNAOiC3TkBduifQH0AhCRCHAgkFFgn97AmALb+ovILBEZGTR3VRjvIHcuNumwumhlEe//VSITx57jxKBgdIOBBiIyExgAzAC27zqBSA3gTOCFqGMex/pEsoAVwP2FvrjIFSKSKyK5q1atKmyXUmnWDPbf39cgd644tWrVYvXq1Z48UoCqsnr16l3zTmKRyHkceUDzqMcZwHfRO6jqeqAPgNiA5G+Cn3ynAtNVdWXUMbvui8hw4LXCXlxVnwSeBOscL8sbKSgnx684nCtORkYGeXl5lOeXNpc4tWrVIiOjYGNP0RKZOKYCrUSkJda53Ru4IHoHEakPbAr6QC4DpgTJJN/5FGimEpGmqroieNgTmJ2g+IsUicArr8CaNdCgQhvKnEsN1atXT1jhPxe+hDVVqep2oD/wFjAPGKeqc0Skr4j0DXY7ApgjIvOxq4uB+ceLSG1sRNZLBU49RES+FJFZQBfg2kS9h6L4UrLOuXSW0JIjwfyKSQW2PRF1/xOgVRHHbgIaFrL9onIOM27ZwajmqVMhKH3jnHNpw2eOl0L9+jaL3Ps5nHPpyBNHKeUvJeucc+nGE0cpRSKwYgUsXx52JM45V7E8cZSSTwR0zqUrTxyllJkJ1ap54nDOpR9PHKVUq5YlD08czrl044mjDCIRm8sRLOLlnHNpwRNHGUQisH49LFwYdiTOOVdxPHGUQU6O3XpzlXMunXjiKIPDD4c6dTxxOOfSiyeOMqha1cqPeIl151w68cRRRpGIrQa4ZUvYkTjnXMXwxFFGOTmwdSvMmhV2JM45VzE8cZSRzyB3zqUbTxxl1Lw5NGni/RzOufThiaOMRLxSrnMuvXjiKAc5OTB/PqxbF3YkzjmXeJ44ykEkAqowbVrYkTjnXOIlNHGISHcRWSAii0Tk5kKebyAiE0Rkloh8LiJtop5bEqwtPlNEcqO27ysi74jIV8Ftg0S+h1jkzyD3fg7nXDpIWOIQkarAo8CpQGvgfBFpXWC3QcBMVW0HXAwMLfB8F1XNUtXsqG03A5NVtRUwOXgcqn33hUMO8X4O51x6SOQVRwRYpKqLVXUrMBY4q8A+rbEPf1R1PtBCRJqUcN6zgKeD+08DPcov5NLLyfHE4ZxLD4lMHM2Ab6Me5wXbon0B9AIQkQhwIJARPKfA2yIyTUSuiDqmiaquAAhuGxf24iJyhYjkikjuqlWryvxmShKJQF6eLSfrnHOVWSIThxSyTQs8Hgw0EJGZwABgBrA9eO5YVe2ANXX1E5Hj43lxVX1SVbNVNbtRo0Zxhh6//ImA3s/hnKvsEpk48oDmUY8zgO+id1DV9araR1WzsD6ORsA3wXPfBbc/ABOwpi+AlSLSFCC4/SGB7yFm7dtb0UNvrnLOVXaJTBxTgVYi0lJEagC9gYnRO4hI/eA5gMuAKaq6XkT2FpG6wT57AycDs4P9JgKXBPcvAV5J4HuI2V57Qdu2njicc5VftUSdWFW3i0h/4C2gKjBSVeeISN/g+SeAI4BnRGQHMBf4U3B4E2CCiOTH+Jyqvhk8NxgYJyJ/ApYB5ybqPcQrEoFx42xOhxTWUOecc5WAqBbsdqh8srOzNTc3t+Qdy2jECLjsMltKtlWrhL+cc84llIhMKzAdAvCZ4+XKK+U659KBJ45ydMQRULu2Jw7nXOWWsD6OdFStGnTs6InDxWjTJhg/HjZvDjuS1NG4MZx5JlTx77xh8sRRziIRGDYMtm2D6tXDjsYltauugqefLnk/t7tHH7V/OxcaTxzlLBKx9ce//BI6dAg7Gpe0pkyxpPHnP8N114UdTeq46CIYNAh69YLf/CbsaNKWJ45yll8p9/PPPXG4ImzdCldeCS1awN13W8eYi81jj0G7dnD99fCf/4QdTdryhsJy1qIF7Lef93O4Yjz4IMydC4884kkjXocdBjfeCKNHw3vvhR1N2vLEUc7yl5L1mlWuUEuX2lVGjx5w+ulhR5OaBg2Cgw6yfo4tW8KOJi154kiASATmzIENG8KOxCWdq6+226EFl55xMdtrLxuBsmAB3Hdf2NGkJU8cCZCTY2VHpk8POxKXVCZOtJ+77oIDDgg7mtR26qlw9tnw17/C4sVhR5N2PHEkQHQHuXMA/PwzDBgAbdrANdeEHU3l8NBDNnlqwAD7puYqjCeOBGjUCFq29H4OF+Wee2DZMnj8cZ/gU14yMuAvf4FJk2DChLCjSSueOBIkEvErDheYMwfuvx/69IHjjgs7msrl6qtteO7AgbBxY9jRpA1PHAmSk2MDaFauDDsSFypVG/1Trx4MGRJ2NJVPtWp2FZeXZ31HrkJ44kgQX0rWAfDMMzZL/J//tAk+rvx16mTrGTz0EMyaFXY0acETR4J06GB12DxxpLGffrIZzsccA5deGnY0ldvgwdCggc3I37kz7GgqPU8cCbL33jaAxvs50tgtt8CaNfDEE17NNdEaNrSmwI8/hqeeCjuaSi+hv80i0l1EFojIIhG5uZDnG4jIBBGZJSKfi0ibYHtzEXlfROaJyBwRGRh1zF0islxEZgY/v0vkeyiLnBxLHD5SMA19+ik8+aR12rZrF3Y06eGSS2zwwY03wo8/hh1NpZawxCEiVYFHgVOB1sD5ItK6wG6DgJmq2g64GMifTrsd+LOqHgEcDfQrcOyDqpoV/ExK1Hsoq0jEWit8flKa2b4d+vaFZs28w7YiValiHeXr18NNN4UdTaWWyCuOCLBIVRer6lZgLHBWgX1aA5MBVHU+0EJEmqjqClWdHmzfAMwDmiUw1oTwDvI0NWwYfPGFlRWpWzfsaNJLmzZWpn7kSPjoo7CjqbRKTBwicrqIlCbBNAO+jXqcx54f/l8AvYLXiQAHAhkFXr8F0B74LGpz/6B5a6SINCgi7itEJFdEcletWlWK8MvuyCOtrI73c6SR5cvh9tutJEavXmFHk57uuMNKuvTtayuquXIXS0LoDXwlIkNE5Ig4zi2FbCvY2j8YaCAiM4EBwAysmcpOIFIHeBG4RlXXB5sfBw4GsoAVwP2FvbiqPqmq2aqa3ahRozjCLj/Vq0P79p440so111hT1bBhVirZVby994aHH4bZs22Irit3JSYOVf0D9o3/a+ApEfkk+DZf0jV4HtA86nEG8F2Bc69X1T6qmoX1cTQCvgEQkepY0hitqi9FHbNSVXeo6k5gONYklrQiESt2uH17yfu6FPfmm7aG+K23WtlvF56zzoIzzrA+pmXLwo6m0ompCSr4tv8i1k/RFOgJTBeRAcUcNhVoJSItRaQGduUyMXoHEakfPAdwGTBFVdeLiAAjgHmq+kCBY5pGPewJzI7lPYQlEoFffrGqE64S++UX6NfPFhq64Yawo3FgVx2qNrLNlatY+jjOEJEJwHtAdSCiqqcCmcD1RR2nqtuB/sBbWOf2OFWdIyJ9RaRvsNsRwBwRmY+Nvsr/Hz4WuAg4sZBht0NE5EsRmQV0Aa6N8z1XqPwOcm+uquT+8Q8bPvfYY1CzZtjROLDlOO+4A15+GV57LexoKhXREiYZiMgzwL9VdUohz3VV1cmJCq68ZGdna25ubiivrWqVJnr1guHDQwnBJdrChdC2LZx7rq+DnWy2brWOxk2b7LLfl+qNi4hMU9Xsgttjaaq6E9j1fVlE9gpGOpEKSSNsIr9OBHSVUH4Rw732sgq4LrnUqGFXgUuW2KJPrlzEkjheAKKLv+wItrkY5S8l+/PPYUfiyt3YsTB5Mvz979CkSdjRuMKccAJcfLEtMztvXtjRVAqxJI5qwQQ+AIL7NYrZ3xUQicCOHTBjRtiRuHK1bp1NNsvOhv/7v7CjccW5916oU8euDr0GUJnFkjhWiciZ+Q9E5CzAC8HEwZeSraRuuw1++MGKGFatGnY0rjiNG9sAhg8+8H6ochBL4ugLDBKRZSLyLXAT4F+v4tCkiU1k9cRRiUybZm3nV10FHTuGHY2LxeWXw1FHwZ//bFWLXanFMgHwa1U9Gqsr1VpVO6nqosSHVrlEIl6zqtLYscPKWTRu7B2uqSS/COLq1TBoUNjRpLSYJgCKyGnAVcC1InKHiNyR2LAqn0jEhvl7tedK4F//gtxceOAB2GefsKNx8WjfHgYMsP9DbwIotVgmAD4B/B6rJSXAuVgxQheH/H4Ov+pIcd9/b99Wu3aF3r3DjsaVxt13Q9OmdtXotYBKJZYrjk6qejGwRlX/AhzD7jWoXAw6drQ5Hf4lJ8Vdf72VF3nsMS9imKrq1bPihzNm2P+ji1ssiWNzcLtJRPYHtgEtExdS5VS3LrRu7VccKe2992D0aFsk6NBDw47GlcU558App9jIuO++K3l/t5tYEserIlIfuBeYDiwBxiQyqMoqEvGlZFPWli02guqgg2wtcZfaRKz0/datNhfHxaXYxBEs4DRZVdeq6otY38bhquqd46WQkwOrVsHSpWFH4uJ2332wYAE8+qiVF3Gp75BDrL/q+efhnXfCjialFJs4gjUv7o96vEVV1yU8qkrKK+WmqMWLbdjtOedA9+5hR+PK0003QatWdjW5eXPJ+zsgtqaqt0Xk7GCNDFcGbdtaxW3v50ghqjZ8s1o1X02uMqpZ0zrIFy2Cf/4z7GhSRiyJ4zqsqOEWEVkvIhtEZH1JB7k91ajhS8mmnAkTYNIkG8LZrFnY0bhEOOkkG1r9j39YAnElimXmeF1VraKqNVS1XvC4XkUEVxnl5NjcMR8+ngI2bLDV4zIz7arDVV4PPGBXH/36+eiVGMQyAfD4wn4qIrjKKBKxNWW8unMKuOsuyMuzMhXVqoUdjUukpk2tH+vtt2HcuLCjSXqx/DVEL6BcC4gA04ATExJRJZffQT51qvV5uCQ1axYMHWqF8Y45JuxoXEW46ioYNQquvRZOPdUmCrpCxdJUdUbUTzegDbAylpOLSHcRWSAii0Tk5kKebyAiE0Rkloh8LiJtSjpWRPYVkXdE5KvgtkFsbzU5HHII1K/v/RxJbedOK0fRoAEMHhx2NK6iVK1qJfK//x5uvz3saJJaTEUOC8jDkkexRKQq8ChwKlZZ93wRaV1gt0HATFVtB1wMDI3h2JuxuSWtgMnB45RRpYqt++OJI4mNHAmffGJzN/bdN+xoXEXKybEvDcOGwfTpYUeTtGLp43hERB4OfoYB/wO+iOHcEWCRqi4OVg0cC5xVYJ/W2Ic/qjofaCEiTUo49izg6eD+00CPGGJJKpGItYT88kvYkbg9/Pijje0//nhbbtSln7//HfbbD6680krouz3EcsWRi/VpTAM+AW5S1T/EcFwz4Nuox3nBtmhfAL0ARCSCzUzPKOHYJqq6AiC4bVzYi4vIFSKSKyK5q1atiiHcipO/lOzMmWFH4vZw442wfr0XMUxn9evD/fdbs8Dw4WFHk5RiSRzjgf+o6tOqOhr4VERqx3BcYX91Bce5DQYaiMhMrGz7DGB7jMcWS1WfVNVsVc1u1KhRPIcmnM8gT1IffghPPWUrxB15ZNjRuDBdeCF06WJ1yVbG1KWbVmJJHJOB6OI8ewHvxnBcHruXX88AditDqarrVbWPqmZhfRyNgG9KOHaliDQFCG5/iCGWpNK0qc0l88SRRLZts6aJAw/0jlFnV5uPPQY//ww33FDy/mkmlsRRS1U35j8I7sdyxTEVaCUiLUWkBtAbmBi9g4jUD54DuAyYoqrrSzh2InBJcP8S4JUYYkk6+ZVyXZJ46CGYPRsefhj23jvsaFwyOPxwa7p89ln44IOwo0kqsSSOn0WkQ/4DEekIlNitq6rbgf7AW8A8YJyqzhGRviLSN9jtCGCOiMzHRlANLO7Y4JjBQDcR+QroFjxOOZGIVTf46aewI3EsW2aT/c48036cy3frrdCypc3x2Lo17GiShmgJ0+tFJAcb1ZTfVNQU+L2qTktwbOUmOztbc3Nzww5jN++9Z6uPvvUWnHxy2NGkuZ49bcbw3LnWVOVctEmT4LTTbLRVmq3FIiLTVDW74PZYJgBOBQ4HrgSuAo5IpaSRrDp2tFtvrgrZa6/Byy/DHXd40nCF+93voFcvuOce+OabsKNJCrHM4+gH7K2qs1X1S6COiFyV+NAqt332sSZUTxwh2rTJihe2bm1lJpwrykMP2ezdq6/2IojE1sdxuaquzX+gqmuAyxMXUvrwpWRD9te/wpIlVsSwRo0Sd3dprHlz+Mtf7Ar1lZQcj1OuYkkcVaIXcQrKgfhfWTmIRGyIeF5e2JGkoXnzrKTIJZfYLHHnSnL11VaZ9OqrYePGkvevxGJJHG8B40Skq4icCIwB3khsWOkhJ8duvbmqgqnaKJk6deDee8OOxqWK6tXt6vTbb21hrzQWS+K4CZsEeCXQD5jF7hMCXSllZtrvoi8lW8H+8x8blz94MCRZVQGX5I49Fv70J3jwQZv3k6ZiGVW1E/gUWAxkA12xuRWujGrWhMaeoF8AABwMSURBVKwsv+KoUGvWWEmRo4+Gyy4LOxqXiv75TxvdcuWVVoI/DRWZOETkUBG5Q0TmAcMIig6qahdVHVZRAVZ2kYgtJetFOCvIoEGwerU1OVQpzaoCLu01bAhDhlhts6efLnn/Sqi4v5z52NXFGap6nKo+AvjHWznLybGlrRcsCDuSNPD55/Cvf1nnZlZW2NG4VPbHP1qz1Q032BeRNFNc4jgb+B54X0SGi0hXCq9a68ogeilZl0Dbt9sCPU2bpn3HpisHVarYVevatXBzSq0lVy6KTByqOkFVf4/NGv8AuBZoIiKPi4gXySgnhx0Gdet6P0fCPfoozJhhE7nq1g07GlcZtG1rE0f//W/46KOwo6lQJdaq2m1nkX2Bc7FaVScmLKpyVupaVR9/DPPnl39ABdx7L/yyGe7wat6JsWOHdYh36gRvvOELNLnys3GjVR6oVw+uuy7saAp38smQkVGqQ4uqVRVX4khVpU4c/fpZTX6X+urXt/bAQw4JOxJX2bz6qtWy2r497EgK98Yb0L17qQ71xFGaxPHTTxUyQ/SNN+D/+sLEV7zPNmEaNPAmKpc4q1fbok/JqFEj2Kt0U++KShzVyhxUZbbvvvaTYG1Ps7HOHy6DLF8OwrnU07Ch/aQJH8ieBJo1s8E+3kHunEsFnjiSgIjN5/DE4ZxLBQlNHCLSXUQWiMgiEdljsLOI7CMir4rIFyIyR0T6BNsPE5GZUT/rReSa4Lm7RGR51HO/S+R7qCiRiE0CXLcu7Eicc654CUscQfn1R7G1xFsD54tI6wK79QPmqmom0Bm4X0RqqOoCVc1S1SygI7AJmBB13IP5z6vqpES9h4qUPxEwyVa4dc65PSTyiiMCLFLVxaq6FVu3/KwC+yhQN1jvow7wE1BwTFtX4GtVXZrAWEOXHYxb8OYq5/a0c6etoXTDDX5VngwSOaqqGUFhxEAecFSBfYYBE4HvgLrYxMKC5SZ7Y2uAROsvIhcDucCfg1UJdyMiVwBXABxwwAGlfQ8VpkEDaNXKE4dz0davh1Gj4JFHYNEi2/b11/Diiz6PM0yJvOIo7L+14KSRU4CZwP5AFjBMROrtOoFIDeBM4IWoYx4HDg72XwHcX9iLq+qTqpqtqtmNUmTNhUjEa1Y5B5YcrrnGJjwPHGhTEcaMsYrmEybA/YX+1buKksgrjjygedTjDOzKIlofYLDaLMRFIvINVhsr/3v3qcB0VV2Zf0D0fREZDryWgNhDEYnA6NGwfLkN0XUunajC5MkwdCi8/jpUqwbnnWeJI3+1TFW7Kr/5Zvt78VV/w5HIK46pQCsRaRlcOfTGmqWiLcP6MBCRJsBh2IJR+c6nQDOViDSNetgTqDTLcHmlXJeONm2CJ5+0moHdusFnn8Ftt8HSpbZYY37SAGueGjkSDjoIfv97+P778OJOZwlLHKq6HeiPrVk+DxinqnNEpK+I9A12uwfoJCJfYsvT3qSqPwKISG2gG/BSgVMPEZEvRWQW0AWr2lspZGXZtyzv53DpYNkyuOkma476v/+zZZSfesq23323TYotTL161sexbh307p28JaIqM69VlWQ6drQqJ++8E3YkzpU/VatAPnSo9VWoQs+e1hx13HHxdXg/8wxccokln8GDExdzOiuqVpXPHE8y+R3kabqUsauktmyxD/rsbPjtb+Hdd60K+eLFMH68bYt3lNTFF8MVV1iH+cSCjeAuoTxxJJlIxC7Bv/oq7EicK7vvv4c774QDDrCrg19+sYXz8vJs2e4DDyzb+YcOhQ4dLIl8/XX5xOxK5okjyeR3BHo/h0tlublw0UWWMO6+236v334b5syxFXz33rt8XqdWLbtiqVIFzjnHEpNLPE8cSeaII+yPykdWuVSzbRuMGwfHHmuJ4uWXLUksXGizvrt1S8ykvZYt4dlnYeZMGDCg/M/v9uSJI8lUrWrtwH7F4VLF6tXwj3/sPkT2wQetOerhh60iQqKddhrceiuMGGEjs1xieeJIQpEIzJgBW7eGHYlzRfvyS7j8chtOO2gQHHaYdVIvXGizvvfZp2Lj+ctfoGtXuOoqu/pwieOJIwnl5FjSmDUr7Eic292OHZYcunaFdu1sgt5FF1kSefddOOMMu2oOQ9Wq8NxzthDfOefA2rXhxJEOPHEkIZ9B7pLNunXW/HTooXDWWXZVMXiwNUc9+SS0aRN2hKZxY+tnWboU+vSxeSKu/HniSEIHHGB/AN7P4cK2cKF1OGdk2LyLpk3tg/mbb2ziXTIus92pE9x7r3XO33df2NFUTokscuhKScSuOjxxuDCo2tDZoUPhjTesFEjv3ja7u2PHsKOLzcCB8PHHvxZDPOGEsCOqXPyKI0nl5MC8ebBhQ9iRuHTx8882Oa91a+jeHaZNs8l7y5bZrO9USRpgX77+/W845BAb6bViRdgRVS6eOJJUJGLf/KZNCzsSV9ktWQLXX2/NUVddZfOInn7aEsZdd8FvfhN2hKWTXwxxwwYvhljePHEkKZ9B7hJJFf77X+jVCw4+GB56yCboffihDcq4+GKoWTPsKMuuTRv4179gyhQbMuzKh/dxJKmGDe0P2hOHK0+bN9tKekOHwhdfWCXmG26Afv2gefOSj09Ff/iDVeS9917rOO/RI+yIUp8njiSWk2O/8M6V1XffWf/Fv/4Fq1bBkUfaMNoLL4TatcOOLvEeesjqZ11yiTX/HnJI2BGlNm+qSmKRCHz7ra9y5krvs8/gggusCu3f/gZHH20T9fJnfadD0gBrdnvhBZsk6MUQy84TRxLziYCuNLZts+aoo4+2n9deg/79rVR//qzvRBQbTHYtWthM9y++sKY5V3oJTRwi0l1EFojIIhG5uZDn9xGRV0XkCxGZIyJ9op5bEiwRO1NEcqO27ysi74jIV8Ftg0S+hzC1b2/fkLyfw8Vi1Sr461/tA/KCC6z44MMPw/LlNuv74IPDjjB8v/udrWf+1FNWENGVTsISh4hUBR4FTgVaA+eLSOsCu/UD5qpqJtAZuF9EakQ930VVswosXXgzMFlVW2HrlO+RkCqL2rVtVIgnDlecL76ASy+1zu3bb7ffmddegwULbNZ33bphR5hc7roLTjrJrjpmzAg7mtSUyCuOCLBIVRer6lZgLHBWgX0UqCsiAtQBfgJKGm19FvB0cP9poFKPkchfStZr7rhoO3bASy9B586QlQXPP2+1mebMgbfesjLjVbwhulD5xRAbNfJiiKWVyF+tZsC3UY/zgm3RhgFHAN8BXwIDVTV/tW0F3haRaSJyRdQxTVR1BUBw27iwFxeRK0QkV0RyV61aVfZ3E5JIBNas8WUxnVmzxuovHXwwnH221YwaMsSKDebP+nYla9TIam4tW2YjrXbuLPkY96tEJo7Cut8Kfm8+BZgJ7A9kAcNEpF7w3LGq2gFr6uonIsfH8+Kq+qSqZqtqdqNGjeIMPXnkd5B7c1V6mz/fZnVnZNi8iwMPtFnRX39tjxtU2p6+xDnmGLj/fhswcO+9YUeTWhKZOPKA6ClFGdiVRbQ+wEtqFgHfAIcDqOp3we0PwASs6QtgpYg0BQhuf0jYO0gCrVvDXnt54khHO3fCpElwyim2pPCIEXDeeTB9+q+zvqv5TKwyGTDA/k0HDYIPPgg7mtSRyMQxFWglIi2DDu/ewMQC+ywDugKISBPgMGCxiOwtInWD7XsDJwOzg2MmApcE9y8BXkngewhdtWpWXM6H5KaPDRtg2DBLFqedZgt63X23zel56ikbbefKR34xxEMPtWKI3xX8ausKlbDEoarbgf7AW8A8YJyqzhGRviLSN9jtHqCTiHyJjZC6SVV/BJoAH4rIF8DnwOuq+mZwzGCgm4h8BXQLHldqkYh9y9y2LexIXCItXmxrXmRk2Dfh+vVh9GhblOj2222NFlf+6taF8eNh40ZLHv53VjLRNBiuk52drbm5uSXvmKSef96qe06f7t82KxtVeP99m28xceKvM5sHDrTJe67iPPeclWD58599Aah8IjKtwHQIwGeOpwSvlFs5ffwxZGbaTO6PPrJ29iVLfp317SrWBRfYAIT777ehzqlsxw545RWbr7J0afmf3xNHCmjZ0qrlej9H5TFuHJx4ojWPjBhhw0L/+ldoVnDAuqtQDzxgTcN9+liJllSzdq29h1atrArwwoU2ZLu8eeJIAb6UbOWhCv/8p7Wl5+TYl4FLL7WRcy58NWtaUq9WzebJbNoUdkSxWbDA6pFlZFhTW0aGFXVcvNgmiZY3TxwpIhKxWcEbN4YdiSut7duhb19bB7t3b3jnHbuSdMnlwANtUMLs2dZ0lazdwDt3wptvWv2tww+H4cOtf2zaNFu46pxzEjdc2xNHisjJsV+U6dPDjsSVxvr1cPrptgbGLbfYB1OtWmFH5YrSvbuNZHv6aRuum0w2boTHHrM1VU491ept/eUv1tw5ahR06JD4GHz6UIrI7yCfOhWOj2sOvQtbXp7Nx5gzx74VXnZZ2BG5WNxxB3z6qQ2N7tixYj6Qi/PNN/Doo5bI1q2D7Gx49lmbwFijRsnHlydPHCmicWMrl+39HKll5kxLGhs22Czwk08OOyIXq6pV7cqwfXvr75g+veJLu+SvDT90qA3XFtl9uHZY66p4U1UK8Q7y1PLGG/Db31qV2g8/9KSRivbbzzqZly+Hiy+uuGKImzfDyJGWtLp0gf/9D266yYZrjx1rdbbCXIzLE0cKycmxX5wULvabNv71LzjjDFvb+rPPoF27sCNypXX00TbE9bXXbERcIi1fbgtNNW8Of/qTzccYPtzKzfz97zZaKhl44kghvpRs8tu5074Z9u1rxQmnTIH99w87KldW/frZSLjbbrOZ/uXt00/h/POtOfrvf4djj4X33rM6ZZddlnzDtT1xpJAOHazZw5urktMvv9iHy5AhcOWVNnPXV9+rHETsm/9hh9n/8fLlZT/n1q1W5uSoo6zpadIk64hftAheftmaqJJ1bXhPHCmkTh0bgueJI/msWmWlQ154weocPfqolzyvbOrUsTVQfv65bMUQf/gB7rnHri4uvNBmez/yiI2+e+ABOOigcg07ITxxpJicHEscyTopKR0tXGjfGGfMsMTx5z8n7zdFVzZHHGHDYT/6yJok4zFzppUyOeAAG+rbrp1dZcybZ7O+U+nq1BNHiolEYPVq6yR34fvf/yxprFtnbd/nnBN2RC7Reve2D/oHH7Ry7MXZvt0KJp5wgo2QGjfOSszMnWuzvk89NTXXhk/BkNObLyWbPMaMseqj++1nnZte0TZ93H+/9U1ceqldcRa0Zo0tR3vIITYHZOlSe5yXZ7O+jzii4mMuT544UkybNlaqwhNHeFRt5MsFF9iHxyefwMEHhx2Vq0g1atjVQ40alhh+/tm2z5tnAyMyMuDGG60f46WXbG3466+vPGvDe/ddiqle3S55PXGEY9s2+2AYMcISx8iRVlHVpZ8DDrBRUd27W/PV1q3w9tv2+3DBBXD11ZCVFXaUieFXHCnot7/9dSby669X3GzWdLdunZUPGTHCxvP/5z+eNNLdySfDnXfa5MAvv7TRUt9+a18oKmvSgAQnDhHpLiILRGSRiNxcyPP7iMirIvKFiMwRkT7B9uYi8r6IzAu2D4w65i4RWS4iM4Of3yXyPSSjO+6wRX/mzLGKq4cfbsP5NmwIO7LKa9kyOO446wAfMcI+IHzklAP7e/z8cxuwcttt0KhR2BElXsLWHBeRqsBCoBuQB0wFzlfVuVH7DAL2UdWbRKQRsAD4DdAQaKqq00WkLjAN6KGqc0XkLmCjqsa8KnCqrzlelG3bbFTH0KFW1qJePeus69/f29zL0/TplqB//tnG8Z90UtgROVcxwlhzPAIsUtXFqroVGAucVWAfBeqKiAB1gJ+A7aq6QlWnA6jqBmAe4ItqFlC9upUp+PRT+zn9dBg2zJaNPPNMmDzZ53uU1euvWxn7atVs7L4nDecSmziaAd9GPc5jzw//YcARwHfAl8BAVd2txV5EWgDtgc+iNvcXkVkiMlJECh2nICJXiEiuiOSuSoOqgEcdZSWgly6FW2+1RHLSSTbJaPjw1FkCM5k89pgl4MMOsyu6Nm3Cjsi55JDIxFFYC3DB77+nADOB/YEsYJiI1Nt1ApE6wIvANaq6Ptj8OHBwsP8K4P7CXlxVn1TVbFXNbpQOjY6B/fe39vdly6yDrmpVuOIKq7Z5yy3WceeKt3OnDZ3s18+W5fzvf6Fp07Cjci55JDJx5AHNox5nYFcW0foAL6lZBHwDHA4gItWxpDFaVV/KP0BVV6rqjuDKZDjWJOYKqFXLyhvMmGEffJ07W/G9li1txbCPPvJmrMJs2gTnnmsTvPr3t2JzdeqEHZVzySWRiWMq0EpEWopIDaA3MLHAPsuArgAi0gQ4DFgc9HmMAOap6gPRB4hI9He/nsDsBMVfKYhYG/2LL9okpGuvhXfesRFCOTm29OSWLWFHmRx++AFOPBEmTLByEg8/bFdszrndJSxxqOp2oD/wFta5PU5V54hIXxHpG+x2D9BJRL4EJgM3qeqPwLHARcCJhQy7HSIiX4rILKALcG2i3kNl06LFr2UPHn/cvl1ffDEceKAtdv/992FHGJ75861kyKxZlmSvucaH2zpXlIQNx00mlXU4blmp2tXH0KFWpbNGDSsXPXAgdOwYdnQVZ8oU6NHDRk69+qoNNHDOhTMc1yU5kV9nny9YYJ3oEyZAdrY1Zb3wglX3rMxGj4Zu3aBJExuJ5knDuZJ54nAAHHror4vJPPggrFhhnegtW8LgwVbKvTJRtdn3f/gDdOoEH3+cGgvoOJcMPHG43eyzj7XvL1xoS58eeqgN423e3K5IZleCoQjbtsGf/gS3326J4803K0/VUucqgicOV6iqVX+dfT5rli1x+eyz0LatTSx89dXULK64dq0tnvPUU1Zj6JlnvFChc/HyxOFK1LatzT7Py4N//MP6Q848065GHnoI1q8v+RzJYOlS67v5739h1CgbSeYjp5yLnycOF7OGDeHmm2HxYnj+eetQvvZaaNbM1h746quwIyxabq4Nt83Ls6apSy4JOyLnUpcPx3VlkptrE+XGjrURWEcdBbVrhx3Vnj791MpdT5oErVuHHY1zqaGo4bieOFy5+P57eOIJeO+95Cxl0rSpJbjf/CbsSJxLHZ44PHE451xcfAKgc865cuGJwznnXFw8cTjnnIuLJw7nnHNx8cThnHMuLp44nHPOxcUTh3POubh44nDOOReXtJgAKCKrgKWlPHw/4MdyDKe8eFzx8bji43HFJ1njgrLFdqCqNiq4MS0SR1mISG5hMyfD5nHFx+OKj8cVn2SNCxITmzdVOeeci4snDuecc3HxxFGyJ8MOoAgeV3w8rvh4XPFJ1rggAbF5H4dzzrm4+BWHc865uHjicM45FxdPHEUQkZEi8oOIzA47lmgi0lxE3heReSIyR0QGhh0TgIjUEpHPReSLIK6/hB1TNBGpKiIzROS1sGPJJyJLRORLEZkpIkmz0piI1BeR8SIyP/g9OyYJYjos+HfK/1kvIteEHReAiFwb/M7PFpExIlIr7JgARGRgENOc8v638j6OIojI8cBG4BlVbRN2PPlEpCnQVFWni0hdYBrQQ1XnhhyXAHur6kYRqQ58CAxU1U/DjCufiFwHZAP1VPX0sOMBSxxAtqom1cQxEXka+J+q/ltEagC1VXVt2HHlE5GqwHLgKFUt7cTe8oqlGfa73lpVfxGRccAkVR0VclxtgLFABNgKvAlcqapflcf5/YqjCKo6Bfgp7DgKUtUVqjo9uL8BmAc0CzcqULMxeFg9+EmKbyUikgGcBvw77FiSnYjUA44HRgCo6tZkShqBrsDXYSeNKNWAvUSkGlAb+C7keACOAD5V1U2quh34L9CzvE7uiSOFiUgLoD3wWbiRmKA5aCbwA/COqiZFXMBDwI3AzrADKUCBt0VkmohcEXYwgYOAVcBTQdPev0Vk77CDKqA3MCbsIABUdTlwH7AMWAGsU9W3w40KgNnA8SLSUERqA78DmpfXyT1xpCgRqQO8CFyjquvDjgdAVXeoahaQAUSCy+VQicjpwA+qOi3sWApxrKp2AE4F+gXNo2GrBnQAHlfV9sDPwM3hhvSroOnsTOCFsGMBEJEGwFlAS2B/YG8R+UO4UYGqzgP+CbyDNVN9AWwvr/N74khBQR/Ci8BoVX0p7HgKCpo2PgC6hxwKwLHAmUF/wljgRBH5T7ghGVX9Lrj9AZiAtUeHLQ/Ii7paHI8lkmRxKjBdVVeGHUjgJOAbVV2lqtuAl4BOIccEgKqOUNUOqno81uxeLv0b4Ikj5QSd0COAear6QNjx5BORRiJSP7i/F/YHNT/cqEBVb1HVDFVtgTVxvKeqoX8jFJG9g8ENBE1BJ2PNC6FS1e+Bb0XksGBTVyDUgRcFnE+SNFMFlgFHi0jt4G+zK9bvGDoRaRzcHgD0ohz/3aqV14kqGxEZA3QG9hORPOBOVR0RblSAfYO+CPgy6E8AGKSqk0KMCaAp8HQw4qUKME5Vk2boaxJqAkywzxqqAc+p6pvhhrTLAGB00Cy0GOgTcjwABG313YD/CzuWfKr6mYiMB6ZjTUEzSJ7yIy+KSENgG9BPVdeU14l9OK5zzrm4eFOVc865uHjicM45FxdPHM455+LiicM551xcPHE455yLiycO55xzcfHE4VwFEJH9g/H+Je23sYjto0TknPKPzLn4eeJwrgKo6neqGsoHf1C11bly44nDuYCItAgWLhoeLH7zdlA+pbB9PxCRfwaLVy0Ukd8G26uKyL0iMlVEZonI/0Wde3Zwv7aIjAuef15EPhOR7Khz/y1YEOtTEWkS9bInicj/gtc7Pdi3log8FSwINUNEugTb/ygiL4jIq1gF3qYiMiVYBGl2frzOlYYnDud21wp4VFWPBNYCZxezbzVVjQDXAHcG2/6EldbOAXKAy0WkZYHjrgLWqGo74B6gY9Rze2PrKGQCU4DLo55rAZyArS3yRLDSXD8AVW2L1XF6OmoFumOAS1T1ROAC4K2genEmMBPnSskvYZ3b3Teqmv+hOg37sC7KS4XsdzLQLqo/Yh8sGS2MOu44YCiAqs4WkVlRz20F8mt8TcNqM+Ubp6o7ga9EZDFweHCuR4JzzReRpcChwf7vqGr+YmRTgZFBZeWXo96jc3HzKw7ndrcl6v4Oiv9ytaWQ/QQYoKpZwU/LQhb2kWLOuU1/LSBX8PULFpbTEs71864dbUXL47ElV58VkYuLOc65YnnicK58vQVcGXyzR0QOLWQFvQ+B84LnWwNtYzz3uSJSRUQOxlbqW4A1Z12Y/1rAAcH23YjIgdiCVsOxsvzJtMaGSzHeVOVc+fo31mw1PVifYRXQo8A+j2F9EbOwMtyzgHUxnHsBtnZ0E6Cvqm4Wkcew/o4vsbLef1TVLUG59midgRtEZBuwEfArDldqXlbduQoWrFlSPfjgPxiYDByqqltDDs25mPgVh3MVrzbwftCcJcCVnjRcKvErDueKISKPYqsuRhuqqk+FEY9zycATh3POubj4qCrnnHNx8cThnHMuLp44nHPOxcUTh3POubj8P88Qhk2BBhZWAAAAAElFTkSuQmCC\n",
      "text/plain": [
       "([0.8823529411764706,\n",
       "  0.8823529411764706,\n",
       "  0.8823529411764706,\n",
       "  0.9411764705882353,\n",
       "  0.9411764705882353,\n",
       "  0.9411764705882353,\n",
       "  0.8823529411764706,\n",
       "  0.8823529411764706,\n",
       "  0.8235294117647058,\n",
       "  0.8823529411764706,\n",
       "  0.8823529411764706,\n",
       "  0.8823529411764706,\n",
       "  0.8235294117647058,\n",
       "  0.7647058823529411,\n",
       "  0.7647058823529411,\n",
       "  0.7647058823529411,\n",
       "  0.7647058823529411,\n",
       "  0.7647058823529411],\n",
       " [0.7529411764705882,\n",
       "  0.7654411764705882,\n",
       "  0.7779411764705882,\n",
       "  0.7779411764705882,\n",
       "  0.7904411764705882,\n",
       "  0.7779411764705882,\n",
       "  0.7779411764705882,\n",
       "  0.8022058823529411,\n",
       "  0.7779411764705882,\n",
       "  0.7779411764705882,\n",
       "  0.7904411764705882,\n",
       "  0.7904411764705882,\n",
       "  0.7904411764705882,\n",
       "  0.7904411764705882,\n",
       "  0.7904411764705882,\n",
       "  0.7904411764705882,\n",
       "  0.7904411764705882,\n",
       "  0.7904411764705882])"
      ]
     },
     "execution_count": 31,
     "metadata": {},
     "output_type": "execute_result"
    }
   ],
   "source": [
    "knn_test_results, scores"
   ]
  },
  {
   "cell_type": "code",
   "execution_count": 32,
   "metadata": {},
   "outputs": [
    {
     "data": {
      "image/png": "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\n",
      "text/plain": [
       "<Figure size 432x288 with 1 Axes>"
      ]
     },
     "metadata": {
      "needs_background": "light"
     },
     "output_type": "display_data"
    }
   ],
   "source": [
    "line1, = plt.plot(neighbors, scores, 'b', label=\"\")\n",
    "line2, = plt.plot(neighbors, knn_test_results, 'r', label=\"Test Accuracy\")\n",
    "plt.legend(handler_map={line1: HandlerLine2D(numpoints=2)})\n",
    "plt.ylabel('Accuracy')\n",
    "plt.xlabel('n_neighbors')\n",
    "plt.show()"
   ]
  },
  {
   "cell_type": "code",
   "execution_count": null,
   "metadata": {},
   "outputs": [],
   "source": [
    "knn = KNeighborsClassifier(n_neighbors=5)\n",
    "\n",
    "#Train the model using the training sets\n",
    "knn.fit(X_train, y_train)\n",
    "#Predict the response for test dataset\n",
    "y_pred = knn.predict(X_test)\n",
    "\n",
    "train_pred = knn.predict(X_train)"
   ]
  },
  {
   "cell_type": "markdown",
   "metadata": {},
   "source": [
    "### Accuracy measures Calculation"
   ]
  },
  {
   "cell_type": "code",
   "execution_count": null,
   "metadata": {},
   "outputs": [],
   "source": [
    "# Model Accuracy, how often is the classifier correct?\n",
    "print(\"Accuracy:\",accuracy_score(y_test, y_pred))"
   ]
  },
  {
   "cell_type": "code",
   "execution_count": null,
   "metadata": {},
   "outputs": [],
   "source": [
    "print(\"Training Accuracy: \",accuracy_score(y_train,train_pred))\n",
    "print(\"Test Accuracy: \",accuracy_score(y_test,y_pred))"
   ]
  },
  {
   "cell_type": "code",
   "execution_count": null,
   "metadata": {},
   "outputs": [],
   "source": [
    "print(confusion_matrix(y_test,y_pred))\n",
    "print('\\n')\n",
    "print(classification_report(y_test,rfc_pred))"
   ]
  },
  {
   "cell_type": "markdown",
   "metadata": {},
   "source": [
    "### Accuracy Comparison and Inference"
   ]
  },
  {
   "cell_type": "code",
   "execution_count": null,
   "metadata": {},
   "outputs": [],
   "source": []
  }
 ],
 "metadata": {
  "kernelspec": {
   "display_name": "Python 3",
   "language": "python",
   "name": "python3"
  },
  "language_info": {
   "codemirror_mode": {
    "name": "ipython",
    "version": 3
   },
   "file_extension": ".py",
   "mimetype": "text/x-python",
   "name": "python",
   "nbconvert_exporter": "python",
   "pygments_lexer": "ipython3",
   "version": "3.7.9"
  }
 },
 "nbformat": 4,
 "nbformat_minor": 4
}
